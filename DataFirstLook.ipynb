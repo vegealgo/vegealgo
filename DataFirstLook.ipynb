{
 "cells": [
  {
   "cell_type": "code",
   "execution_count": 1,
   "metadata": {
    "collapsed": true
   },
   "outputs": [],
   "source": [
    "import pandas as pd"
   ]
  },
  {
   "cell_type": "code",
   "execution_count": 2,
   "metadata": {
    "collapsed": false
   },
   "outputs": [
    {
     "name": "stderr",
     "output_type": "stream",
     "text": [
      "//anaconda/lib/python3.6/site-packages/IPython/core/interactiveshell.py:2717: DtypeWarning: Columns (20) have mixed types. Specify dtype option on import or set low_memory=False.\n",
      "  interactivity=interactivity, compiler=compiler, result=result)\n"
     ]
    }
   ],
   "source": [
    "df = pd.read_csv(\"./dataSet.csv\")"
   ]
  },
  {
   "cell_type": "code",
   "execution_count": 3,
   "metadata": {
    "collapsed": false
   },
   "outputs": [
    {
     "data": {
      "text/html": [
       "<div>\n",
       "<table border=\"1\" class=\"dataframe\">\n",
       "  <thead>\n",
       "    <tr style=\"text-align: right;\">\n",
       "      <th></th>\n",
       "      <th>ACCOUNT_NAME</th>\n",
       "      <th>DO_NOT_USE_OLD_STRATEGIC_ACCOUNT_DIVISION_NAME</th>\n",
       "      <th>ACCOUNT_NUMBER</th>\n",
       "      <th>SHIPPING_CITY</th>\n",
       "      <th>DO_NOT_USE_OLD_SHIPPING_STATE</th>\n",
       "      <th>MFGCODE</th>\n",
       "      <th>MAUFACTURER_NAME</th>\n",
       "      <th>PART_NUMBER</th>\n",
       "      <th>PRODUCT_GROUP_DESCRIPTION</th>\n",
       "      <th>GRAINGER_SKU_NUMBER_#</th>\n",
       "      <th>...</th>\n",
       "      <th>Subtrack_Code</th>\n",
       "      <th>SHIPPING STATE</th>\n",
       "      <th>STRATEGIC ACCOUNT DIVISION NAME</th>\n",
       "      <th>PRODUCT CATEGORY</th>\n",
       "      <th>SHIPPED_QUANTITY</th>\n",
       "      <th>UNIT_PRICE</th>\n",
       "      <th>EXTENDED_PRICE</th>\n",
       "      <th>CSP_LPRICE</th>\n",
       "      <th>LIST_PRICE</th>\n",
       "      <th>CRP</th>\n",
       "    </tr>\n",
       "  </thead>\n",
       "  <tbody>\n",
       "    <tr>\n",
       "      <th>0</th>\n",
       "      <td>MOMENTIVE PERFORMANCE MATERIALS</td>\n",
       "      <td>MOMENTIVE PERFORMANCE MATERIALS</td>\n",
       "      <td>800096927</td>\n",
       "      <td>WATERFORD</td>\n",
       "      <td>US/NY</td>\n",
       "      <td>NaN</td>\n",
       "      <td>GRAINGER GLOBAL SOURCING--HWAR</td>\n",
       "      <td>1DNG8</td>\n",
       "      <td>Material Handling</td>\n",
       "      <td>1DNG8</td>\n",
       "      <td>...</td>\n",
       "      <td>MCCDX</td>\n",
       "      <td>NY</td>\n",
       "      <td>MOMENTIVE PERFORMANCE MATERIALS</td>\n",
       "      <td>Material Handling</td>\n",
       "      <td>2</td>\n",
       "      <td>9.59</td>\n",
       "      <td>19.18</td>\n",
       "      <td>0.0</td>\n",
       "      <td>12.66</td>\n",
       "      <td>10.66</td>\n",
       "    </tr>\n",
       "    <tr>\n",
       "      <th>1</th>\n",
       "      <td>MOMENTIVE PERFORMANCE MATERIALS</td>\n",
       "      <td>MOMENTIVE PERFORMANCE MATERIALS</td>\n",
       "      <td>800096927</td>\n",
       "      <td>WATERFORD</td>\n",
       "      <td>US/NY</td>\n",
       "      <td>NaN</td>\n",
       "      <td>FLUKE ELECTRONICS CORPORATION</td>\n",
       "      <td>FLUKE-572-2</td>\n",
       "      <td>Test Instruments</td>\n",
       "      <td>29TJ26</td>\n",
       "      <td>...</td>\n",
       "      <td>MCCDX</td>\n",
       "      <td>NY</td>\n",
       "      <td>MOMENTIVE PERFORMANCE MATERIALS</td>\n",
       "      <td>Test Instruments</td>\n",
       "      <td>1</td>\n",
       "      <td>685.48</td>\n",
       "      <td>685.48</td>\n",
       "      <td>0.0</td>\n",
       "      <td>889.00</td>\n",
       "      <td>741.06</td>\n",
       "    </tr>\n",
       "    <tr>\n",
       "      <th>2</th>\n",
       "      <td>MOMENTIVE PERFORMANCE MATERIALS</td>\n",
       "      <td>MOMENTIVE PERFORMANCE MATERIALS</td>\n",
       "      <td>800096927</td>\n",
       "      <td>WATERFORD</td>\n",
       "      <td>US/NY</td>\n",
       "      <td>NaN</td>\n",
       "      <td>BLACK &amp; DECKER US INC</td>\n",
       "      <td>D28065-QS</td>\n",
       "      <td>Power Tools</td>\n",
       "      <td>32ZU33</td>\n",
       "      <td>...</td>\n",
       "      <td>MCCDX</td>\n",
       "      <td>NY</td>\n",
       "      <td>MOMENTIVE PERFORMANCE MATERIALS</td>\n",
       "      <td>Power Tools</td>\n",
       "      <td>1</td>\n",
       "      <td>147.95</td>\n",
       "      <td>147.95</td>\n",
       "      <td>0.0</td>\n",
       "      <td>238.50</td>\n",
       "      <td>185.91</td>\n",
       "    </tr>\n",
       "    <tr>\n",
       "      <th>3</th>\n",
       "      <td>MOMENTIVE PERFORMANCE MATERIALS</td>\n",
       "      <td>MOMENTIVE PERFORMANCE MATERIALS</td>\n",
       "      <td>800096927</td>\n",
       "      <td>WATERFORD</td>\n",
       "      <td>US/NY</td>\n",
       "      <td>NaN</td>\n",
       "      <td>STANLEY-BOSTITCH</td>\n",
       "      <td>BTF83WW</td>\n",
       "      <td>Pneumatics</td>\n",
       "      <td>410X68</td>\n",
       "      <td>...</td>\n",
       "      <td>MCCDX</td>\n",
       "      <td>NY</td>\n",
       "      <td>MOMENTIVE PERFORMANCE MATERIALS</td>\n",
       "      <td>Pneumatics</td>\n",
       "      <td>1</td>\n",
       "      <td>246.83</td>\n",
       "      <td>246.83</td>\n",
       "      <td>0.0</td>\n",
       "      <td>267.50</td>\n",
       "      <td>266.84</td>\n",
       "    </tr>\n",
       "    <tr>\n",
       "      <th>4</th>\n",
       "      <td>MOMENTIVE PERFORMANCE MATERIALS</td>\n",
       "      <td>MOMENTIVE PERFORMANCE MATERIALS</td>\n",
       "      <td>800096927</td>\n",
       "      <td>WATERFORD</td>\n",
       "      <td>US/NY</td>\n",
       "      <td>NaN</td>\n",
       "      <td>DOW BUILDING SOLUTIONS DIV OF</td>\n",
       "      <td>175437</td>\n",
       "      <td>Adhesives, Sealants and Tape</td>\n",
       "      <td>48WK17</td>\n",
       "      <td>...</td>\n",
       "      <td>MCCDX</td>\n",
       "      <td>NY</td>\n",
       "      <td>MOMENTIVE PERFORMANCE MATERIALS</td>\n",
       "      <td>Adhesives, Sealants and Tape</td>\n",
       "      <td>12</td>\n",
       "      <td>10.40</td>\n",
       "      <td>124.80</td>\n",
       "      <td>0.0</td>\n",
       "      <td>13.35</td>\n",
       "      <td>11.25</td>\n",
       "    </tr>\n",
       "  </tbody>\n",
       "</table>\n",
       "<p>5 rows × 30 columns</p>\n",
       "</div>"
      ],
      "text/plain": [
       "                      ACCOUNT_NAME  \\\n",
       "0  MOMENTIVE PERFORMANCE MATERIALS   \n",
       "1  MOMENTIVE PERFORMANCE MATERIALS   \n",
       "2  MOMENTIVE PERFORMANCE MATERIALS   \n",
       "3  MOMENTIVE PERFORMANCE MATERIALS   \n",
       "4  MOMENTIVE PERFORMANCE MATERIALS   \n",
       "\n",
       "  DO_NOT_USE_OLD_STRATEGIC_ACCOUNT_DIVISION_NAME  ACCOUNT_NUMBER  \\\n",
       "0                MOMENTIVE PERFORMANCE MATERIALS       800096927   \n",
       "1                MOMENTIVE PERFORMANCE MATERIALS       800096927   \n",
       "2                MOMENTIVE PERFORMANCE MATERIALS       800096927   \n",
       "3                MOMENTIVE PERFORMANCE MATERIALS       800096927   \n",
       "4                MOMENTIVE PERFORMANCE MATERIALS       800096927   \n",
       "\n",
       "  SHIPPING_CITY DO_NOT_USE_OLD_SHIPPING_STATE  MFGCODE  \\\n",
       "0     WATERFORD                         US/NY      NaN   \n",
       "1     WATERFORD                         US/NY      NaN   \n",
       "2     WATERFORD                         US/NY      NaN   \n",
       "3     WATERFORD                         US/NY      NaN   \n",
       "4     WATERFORD                         US/NY      NaN   \n",
       "\n",
       "                 MAUFACTURER_NAME  PART_NUMBER     PRODUCT_GROUP_DESCRIPTION  \\\n",
       "0  GRAINGER GLOBAL SOURCING--HWAR        1DNG8             Material Handling   \n",
       "1   FLUKE ELECTRONICS CORPORATION  FLUKE-572-2              Test Instruments   \n",
       "2           BLACK & DECKER US INC    D28065-QS                   Power Tools   \n",
       "3                STANLEY-BOSTITCH      BTF83WW                    Pneumatics   \n",
       "4   DOW BUILDING SOLUTIONS DIV OF       175437  Adhesives, Sealants and Tape   \n",
       "\n",
       "  GRAINGER_SKU_NUMBER_#   ...   Subtrack_Code  SHIPPING STATE  \\\n",
       "0                 1DNG8   ...           MCCDX              NY   \n",
       "1                29TJ26   ...           MCCDX              NY   \n",
       "2                32ZU33   ...           MCCDX              NY   \n",
       "3                410X68   ...           MCCDX              NY   \n",
       "4                48WK17   ...           MCCDX              NY   \n",
       "\n",
       "   STRATEGIC ACCOUNT DIVISION NAME              PRODUCT CATEGORY  \\\n",
       "0  MOMENTIVE PERFORMANCE MATERIALS             Material Handling   \n",
       "1  MOMENTIVE PERFORMANCE MATERIALS              Test Instruments   \n",
       "2  MOMENTIVE PERFORMANCE MATERIALS                   Power Tools   \n",
       "3  MOMENTIVE PERFORMANCE MATERIALS                    Pneumatics   \n",
       "4  MOMENTIVE PERFORMANCE MATERIALS  Adhesives, Sealants and Tape   \n",
       "\n",
       "  SHIPPED_QUANTITY UNIT_PRICE EXTENDED_PRICE CSP_LPRICE LIST_PRICE     CRP  \n",
       "0                2       9.59          19.18        0.0      12.66   10.66  \n",
       "1                1     685.48         685.48        0.0     889.00  741.06  \n",
       "2                1     147.95         147.95        0.0     238.50  185.91  \n",
       "3                1     246.83         246.83        0.0     267.50  266.84  \n",
       "4               12      10.40         124.80        0.0      13.35   11.25  \n",
       "\n",
       "[5 rows x 30 columns]"
      ]
     },
     "execution_count": 3,
     "metadata": {},
     "output_type": "execute_result"
    }
   ],
   "source": [
    "df.head()"
   ]
  },
  {
   "cell_type": "code",
   "execution_count": 4,
   "metadata": {
    "collapsed": false
   },
   "outputs": [
    {
     "name": "stdout",
     "output_type": "stream",
     "text": [
      "<class 'pandas.core.frame.DataFrame'>\n",
      "RangeIndex: 1000000 entries, 0 to 999999\n",
      "Data columns (total 30 columns):\n",
      "ACCOUNT_NAME                                      1000000 non-null object\n",
      "DO_NOT_USE_OLD_STRATEGIC_ACCOUNT_DIVISION_NAME    1000000 non-null object\n",
      "ACCOUNT_NUMBER                                    1000000 non-null int64\n",
      "SHIPPING_CITY                                     1000000 non-null object\n",
      "DO_NOT_USE_OLD_SHIPPING_STATE                     999996 non-null object\n",
      "MFGCODE                                           0 non-null float64\n",
      "MAUFACTURER_NAME                                  999975 non-null object\n",
      "PART_NUMBER                                       994586 non-null object\n",
      "PRODUCT_GROUP_DESCRIPTION                         999999 non-null object\n",
      "GRAINGER_SKU_NUMBER_#                             1000000 non-null object\n",
      "INVOICE_DATE: Day                                 1000000 non-null object\n",
      "INVOICE_NUMBER                                    1000000 non-null int64\n",
      "CUSTOMER_PART_NUMBER                              0 non-null float64\n",
      "CUSTOMER_PURCHASE_ORDER_NUMBER                    999762 non-null object\n",
      "CSP_L(Y/N)                                        1000000 non-null object\n",
      "PRODUCT_DESCRIPTION                               999999 non-null object\n",
      "GRAINGER_ITEM_#                                   1000000 non-null object\n",
      "BRAND_NAME                                        999980 non-null object\n",
      "DO_NOT_USE_OLD_PRODUCT_CATEGORY                   999999 non-null object\n",
      "PRODUCT_SUBCATEGORY                               999444 non-null object\n",
      "Subtrack_Code                                     491068 non-null object\n",
      "SHIPPING STATE                                    999910 non-null object\n",
      "STRATEGIC ACCOUNT DIVISION NAME                   1000000 non-null object\n",
      "PRODUCT CATEGORY                                  999999 non-null object\n",
      "SHIPPED_QUANTITY                                  1000000 non-null int64\n",
      "UNIT_PRICE                                        1000000 non-null float64\n",
      "EXTENDED_PRICE                                    1000000 non-null float64\n",
      "CSP_LPRICE                                        824566 non-null float64\n",
      "LIST_PRICE                                        998898 non-null float64\n",
      "CRP                                               490921 non-null float64\n",
      "dtypes: float64(7), int64(3), object(20)\n",
      "memory usage: 228.9+ MB\n"
     ]
    }
   ],
   "source": [
    "# check the data column info\n",
    "df.info()"
   ]
  },
  {
   "cell_type": "code",
   "execution_count": 7,
   "metadata": {
    "collapsed": false
   },
   "outputs": [
    {
     "name": "stdout",
     "output_type": "stream",
     "text": [
      "Total account name: 4759\n"
     ]
    }
   ],
   "source": [
    "account_name = df['ACCOUNT_NAME'].unique()\n",
    "print(\"Total account name: \" + str(len(account_name)))"
   ]
  },
  {
   "cell_type": "code",
   "execution_count": 11,
   "metadata": {
    "collapsed": false
   },
   "outputs": [],
   "source": [
    "shipping_data = df['SHIPPING STATE'].unique()"
   ]
  },
  {
   "cell_type": "code",
   "execution_count": 12,
   "metadata": {
    "collapsed": false
   },
   "outputs": [
    {
     "name": "stdout",
     "output_type": "stream",
     "text": [
      "['NY' 'PA' 'NC' 'GA' 'SC' 'TX' 'CA' 'LA' 'AL' 'NH' 'MA' 'CT' 'IA' 'WV' 'TN'\n",
      " 'IL' 'WI' 'OH' 'KY' 'CO' 'MI' 'OR' 'MN' 'AR' 'IN' 'MS' 'FL' 'KS' 'MO' 'NV'\n",
      " 'AZ' 'NJ' 'OK' 'NE' 'WA' 'DE' 'RI' 'VA' 'UT' nan 'MD' 'WY' 'AK' 'PR' 'ME'\n",
      " 'VT' 'NM' 'HI' 'SD' 'ND' 'ID' 'MT' 'ARG' 'CHH' 'INT' 'BCN' 'DC' 'MX/BCN'\n",
      " 'JAM' 'UAE' 'GU' 'AS' 'MX/TAM' 'MX/CHH' 'AE/#' 'AW/#' 'GT/#' 'MX/DF'\n",
      " 'MX/MEX' 'DF' 'PH/#' 'TTO' 'VNM' 'ZUL' 'TT/#' 'MEX' '/AS']\n"
     ]
    }
   ],
   "source": [
    "print(shipping_data)"
   ]
  },
  {
   "cell_type": "code",
   "execution_count": 26,
   "metadata": {
    "collapsed": false
   },
   "outputs": [],
   "source": [
    "states = df.groupby('SHIPPING STATE')['SHIPPING STATE'].nunique()"
   ]
  },
  {
   "cell_type": "code",
   "execution_count": null,
   "metadata": {
    "collapsed": true
   },
   "outputs": [],
   "source": []
  }
 ],
 "metadata": {
  "kernelspec": {
   "display_name": "Python 3",
   "language": "python",
   "name": "python3"
  },
  "language_info": {
   "codemirror_mode": {
    "name": "ipython",
    "version": 3
   },
   "file_extension": ".py",
   "mimetype": "text/x-python",
   "name": "python",
   "nbconvert_exporter": "python",
   "pygments_lexer": "ipython3",
   "version": "3.6.0"
  }
 },
 "nbformat": 4,
 "nbformat_minor": 2
}
